{
 "cells": [
  {
   "cell_type": "code",
   "execution_count": 1,
   "id": "491a1726",
   "metadata": {},
   "outputs": [],
   "source": [
    "# Importing Libraries\n",
    "import pandas as pd\n",
    "import numpy as np"
   ]
  },
  {
   "cell_type": "code",
   "execution_count": 2,
   "id": "b944881b",
   "metadata": {
    "scrolled": true
   },
   "outputs": [
    {
     "name": "stderr",
     "output_type": "stream",
     "text": [
      "/Users/jonahwork/opt/anaconda3/lib/python3.8/site-packages/IPython/core/interactiveshell.py:3165: DtypeWarning: Columns (6) have mixed types.Specify dtype option on import or set low_memory=False.\n",
      "  has_raised = await self.run_ast_nodes(code_ast.body, cell_name,\n"
     ]
    }
   ],
   "source": [
    "# Reading in CSV\n",
    "df = pd.read_csv(\"Iowa_Liquor_Sales.csv\")"
   ]
  },
  {
   "cell_type": "code",
   "execution_count": 3,
   "id": "96b5d415",
   "metadata": {
    "scrolled": true
   },
   "outputs": [
    {
     "data": {
      "text/plain": [
       "Index(['Invoice/Item Number', 'Date', 'Store Number', 'Store Name', 'Address',\n",
       "       'City', 'Zip Code', 'Store Location', 'County Number', 'County',\n",
       "       'Category', 'Category Name', 'Vendor Number', 'Vendor Name',\n",
       "       'Item Number', 'Item Description', 'Pack', 'Bottle Volume (ml)',\n",
       "       'State Bottle Cost', 'State Bottle Retail', 'Bottles Sold',\n",
       "       'Sale (Dollars)', 'Volume Sold (Liters)', 'Volume Sold (Gallons)'],\n",
       "      dtype='object')"
      ]
     },
     "execution_count": 3,
     "metadata": {},
     "output_type": "execute_result"
    }
   ],
   "source": [
    "# Looking at columns\n",
    "df.columns"
   ]
  },
  {
   "cell_type": "code",
   "execution_count": 4,
   "id": "8ff13cce",
   "metadata": {},
   "outputs": [],
   "source": [
    "# Replacing spaces in column names\n",
    "df.columns = df.columns.str.replace(' ', '')"
   ]
  },
  {
   "cell_type": "code",
   "execution_count": 5,
   "id": "9c888002",
   "metadata": {
    "scrolled": true
   },
   "outputs": [
    {
     "data": {
      "text/plain": [
       "Index(['Invoice/ItemNumber', 'Date', 'StoreNumber', 'StoreName', 'Address',\n",
       "       'City', 'ZipCode', 'StoreLocation', 'CountyNumber', 'County',\n",
       "       'Category', 'CategoryName', 'VendorNumber', 'VendorName', 'ItemNumber',\n",
       "       'ItemDescription', 'Pack', 'BottleVolume(ml)', 'StateBottleCost',\n",
       "       'StateBottleRetail', 'BottlesSold', 'Sale(Dollars)',\n",
       "       'VolumeSold(Liters)', 'VolumeSold(Gallons)'],\n",
       "      dtype='object')"
      ]
     },
     "execution_count": 5,
     "metadata": {},
     "output_type": "execute_result"
    }
   ],
   "source": [
    "# Ensuring no spaces left in column names\n",
    "df.columns"
   ]
  },
  {
   "cell_type": "code",
   "execution_count": 9,
   "id": "4cf1a9e3",
   "metadata": {
    "scrolled": true
   },
   "outputs": [],
   "source": [
    "# Dropping unneeded columns\n",
    "df_drop = df.drop(columns = ['Invoice/ItemNumber','Address','StoreLocation','VolumeSold(Gallons)'])"
   ]
  },
  {
   "cell_type": "code",
   "execution_count": 11,
   "id": "c48d2806",
   "metadata": {},
   "outputs": [],
   "source": [
    "# Dropping NAs\n",
    "df_drop_na = df_drop.dropna()"
   ]
  },
  {
   "cell_type": "code",
   "execution_count": 16,
   "id": "e9c1cd9d",
   "metadata": {},
   "outputs": [
    {
     "data": {
      "text/plain": [
       "(12495975, 20)"
      ]
     },
     "execution_count": 16,
     "metadata": {},
     "output_type": "execute_result"
    }
   ],
   "source": [
    "# Checking shape to see how many columns have been removed\n",
    "df_drop_na.shape"
   ]
  },
  {
   "cell_type": "code",
   "execution_count": 18,
   "id": "2e393077",
   "metadata": {},
   "outputs": [],
   "source": [
    "# Subsetting 1 out of every 5 rows\n",
    "subset = df_drop_na.iloc[::5, :]"
   ]
  },
  {
   "cell_type": "code",
   "execution_count": 19,
   "id": "a038cbac",
   "metadata": {},
   "outputs": [
    {
     "data": {
      "text/plain": [
       "(2499195, 20)"
      ]
     },
     "execution_count": 19,
     "metadata": {},
     "output_type": "execute_result"
    }
   ],
   "source": [
    "# Checking shape to see if rows have been removed\n",
    "subset.shape"
   ]
  },
  {
   "cell_type": "code",
   "execution_count": 20,
   "id": "29fd1ff7",
   "metadata": {
    "scrolled": true
   },
   "outputs": [
    {
     "data": {
      "text/html": [
       "<div>\n",
       "<style scoped>\n",
       "    .dataframe tbody tr th:only-of-type {\n",
       "        vertical-align: middle;\n",
       "    }\n",
       "\n",
       "    .dataframe tbody tr th {\n",
       "        vertical-align: top;\n",
       "    }\n",
       "\n",
       "    .dataframe thead th {\n",
       "        text-align: right;\n",
       "    }\n",
       "</style>\n",
       "<table border=\"1\" class=\"dataframe\">\n",
       "  <thead>\n",
       "    <tr style=\"text-align: right;\">\n",
       "      <th></th>\n",
       "      <th>Date</th>\n",
       "      <th>StoreNumber</th>\n",
       "      <th>StoreName</th>\n",
       "      <th>City</th>\n",
       "      <th>ZipCode</th>\n",
       "      <th>CountyNumber</th>\n",
       "      <th>County</th>\n",
       "      <th>Category</th>\n",
       "      <th>CategoryName</th>\n",
       "      <th>VendorNumber</th>\n",
       "      <th>VendorName</th>\n",
       "      <th>ItemNumber</th>\n",
       "      <th>ItemDescription</th>\n",
       "      <th>Pack</th>\n",
       "      <th>BottleVolume(ml)</th>\n",
       "      <th>StateBottleCost</th>\n",
       "      <th>StateBottleRetail</th>\n",
       "      <th>BottlesSold</th>\n",
       "      <th>Sale(Dollars)</th>\n",
       "      <th>VolumeSold(Liters)</th>\n",
       "    </tr>\n",
       "  </thead>\n",
       "  <tbody>\n",
       "    <tr>\n",
       "      <th>6</th>\n",
       "      <td>11/09/2015</td>\n",
       "      <td>2538</td>\n",
       "      <td>Hy-Vee Food Store #3 / Waterloo</td>\n",
       "      <td>WATERLOO</td>\n",
       "      <td>50702</td>\n",
       "      <td>7.0</td>\n",
       "      <td>Black Hawk</td>\n",
       "      <td>1701100.0</td>\n",
       "      <td>DECANTERS &amp; SPECIALTY PACKAGES</td>\n",
       "      <td>962.0</td>\n",
       "      <td>Duggan's Distillers Products Corp</td>\n",
       "      <td>238</td>\n",
       "      <td>Forbidden Secret Coffee Pack</td>\n",
       "      <td>6</td>\n",
       "      <td>1500</td>\n",
       "      <td>$11.62</td>\n",
       "      <td>$17.43</td>\n",
       "      <td>6</td>\n",
       "      <td>$104.58</td>\n",
       "      <td>9.0</td>\n",
       "    </tr>\n",
       "    <tr>\n",
       "      <th>25</th>\n",
       "      <td>11/04/2015</td>\n",
       "      <td>3842</td>\n",
       "      <td>Bancroft Liquor Store</td>\n",
       "      <td>BANCROFT</td>\n",
       "      <td>50517</td>\n",
       "      <td>55.0</td>\n",
       "      <td>Kossuth</td>\n",
       "      <td>1701100.0</td>\n",
       "      <td>DECANTERS &amp; SPECIALTY PACKAGES</td>\n",
       "      <td>962.0</td>\n",
       "      <td>Duggan's Distillers Products Corp</td>\n",
       "      <td>238</td>\n",
       "      <td>Forbidden Secret Coffee Pack</td>\n",
       "      <td>6</td>\n",
       "      <td>1500</td>\n",
       "      <td>$11.62</td>\n",
       "      <td>$17.43</td>\n",
       "      <td>3</td>\n",
       "      <td>$52.29</td>\n",
       "      <td>4.5</td>\n",
       "    </tr>\n",
       "    <tr>\n",
       "      <th>52</th>\n",
       "      <td>11/18/2015</td>\n",
       "      <td>2622</td>\n",
       "      <td>Hy-Vee Food Store / Iowa City</td>\n",
       "      <td>IOWA CITY</td>\n",
       "      <td>52240</td>\n",
       "      <td>52.0</td>\n",
       "      <td>Johnson</td>\n",
       "      <td>1081200.0</td>\n",
       "      <td>CREAM LIQUEURS</td>\n",
       "      <td>305.0</td>\n",
       "      <td>MHW Ltd</td>\n",
       "      <td>258</td>\n",
       "      <td>Rumchata \"GoChatas\"</td>\n",
       "      <td>1</td>\n",
       "      <td>6000</td>\n",
       "      <td>$99.00</td>\n",
       "      <td>$148.50</td>\n",
       "      <td>1</td>\n",
       "      <td>$148.50</td>\n",
       "      <td>6.0</td>\n",
       "    </tr>\n",
       "    <tr>\n",
       "      <th>84</th>\n",
       "      <td>11/21/2015</td>\n",
       "      <td>2619</td>\n",
       "      <td>Hy-Vee Wine and Spirits / WDM</td>\n",
       "      <td>WEST DES MOINES</td>\n",
       "      <td>50266</td>\n",
       "      <td>77.0</td>\n",
       "      <td>Polk</td>\n",
       "      <td>1081200.0</td>\n",
       "      <td>CREAM LIQUEURS</td>\n",
       "      <td>305.0</td>\n",
       "      <td>MHW Ltd</td>\n",
       "      <td>258</td>\n",
       "      <td>Rumchata \"GoChatas\"</td>\n",
       "      <td>1</td>\n",
       "      <td>6000</td>\n",
       "      <td>$99.00</td>\n",
       "      <td>$148.50</td>\n",
       "      <td>2</td>\n",
       "      <td>$297.00</td>\n",
       "      <td>12.0</td>\n",
       "    </tr>\n",
       "    <tr>\n",
       "      <th>101</th>\n",
       "      <td>01/26/2015</td>\n",
       "      <td>4742</td>\n",
       "      <td>No Frills Supermarkets #786 / Counci</td>\n",
       "      <td>COUNCIL BLUFFS</td>\n",
       "      <td>51501</td>\n",
       "      <td>78.0</td>\n",
       "      <td>Pottawattamie</td>\n",
       "      <td>1062200.0</td>\n",
       "      <td>PUERTO RICO &amp; VIRGIN ISLANDS RUM</td>\n",
       "      <td>35.0</td>\n",
       "      <td>Bacardi U.S.A., Inc.</td>\n",
       "      <td>43128</td>\n",
       "      <td>Bacardi Superior Rum</td>\n",
       "      <td>6</td>\n",
       "      <td>1750</td>\n",
       "      <td>$15.00</td>\n",
       "      <td>$22.50</td>\n",
       "      <td>12</td>\n",
       "      <td>$270.00</td>\n",
       "      <td>21.0</td>\n",
       "    </tr>\n",
       "  </tbody>\n",
       "</table>\n",
       "</div>"
      ],
      "text/plain": [
       "           Date  StoreNumber                             StoreName  \\\n",
       "6    11/09/2015         2538       Hy-Vee Food Store #3 / Waterloo   \n",
       "25   11/04/2015         3842                 Bancroft Liquor Store   \n",
       "52   11/18/2015         2622         Hy-Vee Food Store / Iowa City   \n",
       "84   11/21/2015         2619         Hy-Vee Wine and Spirits / WDM   \n",
       "101  01/26/2015         4742  No Frills Supermarkets #786 / Counci   \n",
       "\n",
       "                City ZipCode  CountyNumber         County   Category  \\\n",
       "6           WATERLOO   50702           7.0     Black Hawk  1701100.0   \n",
       "25          BANCROFT   50517          55.0        Kossuth  1701100.0   \n",
       "52         IOWA CITY   52240          52.0        Johnson  1081200.0   \n",
       "84   WEST DES MOINES   50266          77.0           Polk  1081200.0   \n",
       "101   COUNCIL BLUFFS   51501          78.0  Pottawattamie  1062200.0   \n",
       "\n",
       "                         CategoryName  VendorNumber  \\\n",
       "6      DECANTERS & SPECIALTY PACKAGES         962.0   \n",
       "25     DECANTERS & SPECIALTY PACKAGES         962.0   \n",
       "52                     CREAM LIQUEURS         305.0   \n",
       "84                     CREAM LIQUEURS         305.0   \n",
       "101  PUERTO RICO & VIRGIN ISLANDS RUM          35.0   \n",
       "\n",
       "                            VendorName  ItemNumber  \\\n",
       "6    Duggan's Distillers Products Corp         238   \n",
       "25   Duggan's Distillers Products Corp         238   \n",
       "52                             MHW Ltd         258   \n",
       "84                             MHW Ltd         258   \n",
       "101               Bacardi U.S.A., Inc.       43128   \n",
       "\n",
       "                  ItemDescription  Pack  BottleVolume(ml) StateBottleCost  \\\n",
       "6    Forbidden Secret Coffee Pack     6              1500          $11.62   \n",
       "25   Forbidden Secret Coffee Pack     6              1500          $11.62   \n",
       "52            Rumchata \"GoChatas\"     1              6000          $99.00   \n",
       "84            Rumchata \"GoChatas\"     1              6000          $99.00   \n",
       "101          Bacardi Superior Rum     6              1750          $15.00   \n",
       "\n",
       "    StateBottleRetail  BottlesSold Sale(Dollars)  VolumeSold(Liters)  \n",
       "6              $17.43            6       $104.58                 9.0  \n",
       "25             $17.43            3        $52.29                 4.5  \n",
       "52            $148.50            1       $148.50                 6.0  \n",
       "84            $148.50            2       $297.00                12.0  \n",
       "101            $22.50           12       $270.00                21.0  "
      ]
     },
     "execution_count": 20,
     "metadata": {},
     "output_type": "execute_result"
    }
   ],
   "source": [
    "# Ensuring dataframe still looks right\n",
    "subset.head()"
   ]
  },
  {
   "cell_type": "code",
   "execution_count": 25,
   "id": "a7433aab",
   "metadata": {
    "scrolled": true
   },
   "outputs": [
    {
     "name": "stderr",
     "output_type": "stream",
     "text": [
      "<ipython-input-25-0552a7bb5ddb>:1: SettingWithCopyWarning: \n",
      "A value is trying to be set on a copy of a slice from a DataFrame.\n",
      "Try using .loc[row_indexer,col_indexer] = value instead\n",
      "\n",
      "See the caveats in the documentation: https://pandas.pydata.org/pandas-docs/stable/user_guide/indexing.html#returning-a-view-versus-a-copy\n",
      "  subset['Date'] = pd.to_datetime(subset['Date'])\n"
     ]
    }
   ],
   "source": [
    "# Changing date column to datetime type\n",
    "subset['Date'] = pd.to_datetime(subset['Date'])"
   ]
  },
  {
   "cell_type": "code",
   "execution_count": 26,
   "id": "5add2083",
   "metadata": {
    "scrolled": false
   },
   "outputs": [
    {
     "data": {
      "text/plain": [
       "Date                  datetime64[ns]\n",
       "StoreNumber                    int64\n",
       "StoreName                     object\n",
       "City                          object\n",
       "ZipCode                       object\n",
       "CountyNumber                 float64\n",
       "County                        object\n",
       "Category                     float64\n",
       "CategoryName                  object\n",
       "VendorNumber                 float64\n",
       "VendorName                    object\n",
       "ItemNumber                     int64\n",
       "ItemDescription               object\n",
       "Pack                           int64\n",
       "BottleVolume(ml)               int64\n",
       "StateBottleCost               object\n",
       "StateBottleRetail             object\n",
       "BottlesSold                    int64\n",
       "Sale(Dollars)                 object\n",
       "VolumeSold(Liters)           float64\n",
       "dtype: object"
      ]
     },
     "execution_count": 26,
     "metadata": {},
     "output_type": "execute_result"
    }
   ],
   "source": [
    "# Ensuring datatype has been changed for date\n",
    "subset.dtypes"
   ]
  },
  {
   "cell_type": "code",
   "execution_count": 29,
   "id": "11e82e30",
   "metadata": {
    "scrolled": true
   },
   "outputs": [
    {
     "name": "stderr",
     "output_type": "stream",
     "text": [
      "<ipython-input-29-8dcdc0426946>:1: SettingWithCopyWarning: \n",
      "A value is trying to be set on a copy of a slice from a DataFrame.\n",
      "Try using .loc[row_indexer,col_indexer] = value instead\n",
      "\n",
      "See the caveats in the documentation: https://pandas.pydata.org/pandas-docs/stable/user_guide/indexing.html#returning-a-view-versus-a-copy\n",
      "  subset['Month'] = pd.DatetimeIndex(subset['Date']).month\n"
     ]
    }
   ],
   "source": [
    "# Creating Month column\n",
    "subset['Month'] = pd.DatetimeIndex(subset['Date']).month"
   ]
  },
  {
   "cell_type": "code",
   "execution_count": 31,
   "id": "2775ada8",
   "metadata": {},
   "outputs": [
    {
     "name": "stderr",
     "output_type": "stream",
     "text": [
      "<ipython-input-31-9923a8e186b6>:1: SettingWithCopyWarning: \n",
      "A value is trying to be set on a copy of a slice from a DataFrame.\n",
      "Try using .loc[row_indexer,col_indexer] = value instead\n",
      "\n",
      "See the caveats in the documentation: https://pandas.pydata.org/pandas-docs/stable/user_guide/indexing.html#returning-a-view-versus-a-copy\n",
      "  subset['Year'] = pd.DatetimeIndex(subset['Date']).year\n"
     ]
    }
   ],
   "source": [
    "# Creating Year column\n",
    "subset['Year'] = pd.DatetimeIndex(subset['Date']).year"
   ]
  },
  {
   "cell_type": "code",
   "execution_count": 33,
   "id": "10146d23",
   "metadata": {
    "scrolled": true
   },
   "outputs": [
    {
     "name": "stderr",
     "output_type": "stream",
     "text": [
      "<ipython-input-33-1c7277d501ea>:1: SettingWithCopyWarning: \n",
      "A value is trying to be set on a copy of a slice from a DataFrame.\n",
      "Try using .loc[row_indexer,col_indexer] = value instead\n",
      "\n",
      "See the caveats in the documentation: https://pandas.pydata.org/pandas-docs/stable/user_guide/indexing.html#returning-a-view-versus-a-copy\n",
      "  subset['Month_Year'] = pd.to_datetime(df['Date']).dt.to_period('M')\n"
     ]
    }
   ],
   "source": [
    "# Creating Month-Year column\n",
    "subset['Month_Year'] = pd.to_datetime(df['Date']).dt.to_period('M')"
   ]
  },
  {
   "cell_type": "code",
   "execution_count": 34,
   "id": "fae44acd",
   "metadata": {},
   "outputs": [
    {
     "data": {
      "text/html": [
       "<div>\n",
       "<style scoped>\n",
       "    .dataframe tbody tr th:only-of-type {\n",
       "        vertical-align: middle;\n",
       "    }\n",
       "\n",
       "    .dataframe tbody tr th {\n",
       "        vertical-align: top;\n",
       "    }\n",
       "\n",
       "    .dataframe thead th {\n",
       "        text-align: right;\n",
       "    }\n",
       "</style>\n",
       "<table border=\"1\" class=\"dataframe\">\n",
       "  <thead>\n",
       "    <tr style=\"text-align: right;\">\n",
       "      <th></th>\n",
       "      <th>Date</th>\n",
       "      <th>StoreNumber</th>\n",
       "      <th>StoreName</th>\n",
       "      <th>City</th>\n",
       "      <th>ZipCode</th>\n",
       "      <th>CountyNumber</th>\n",
       "      <th>County</th>\n",
       "      <th>Category</th>\n",
       "      <th>CategoryName</th>\n",
       "      <th>VendorNumber</th>\n",
       "      <th>...</th>\n",
       "      <th>Pack</th>\n",
       "      <th>BottleVolume(ml)</th>\n",
       "      <th>StateBottleCost</th>\n",
       "      <th>StateBottleRetail</th>\n",
       "      <th>BottlesSold</th>\n",
       "      <th>Sale(Dollars)</th>\n",
       "      <th>VolumeSold(Liters)</th>\n",
       "      <th>Month</th>\n",
       "      <th>Year</th>\n",
       "      <th>Month_Year</th>\n",
       "    </tr>\n",
       "  </thead>\n",
       "  <tbody>\n",
       "    <tr>\n",
       "      <th>6</th>\n",
       "      <td>2015-11-09</td>\n",
       "      <td>2538</td>\n",
       "      <td>Hy-Vee Food Store #3 / Waterloo</td>\n",
       "      <td>WATERLOO</td>\n",
       "      <td>50702</td>\n",
       "      <td>7.0</td>\n",
       "      <td>Black Hawk</td>\n",
       "      <td>1701100.0</td>\n",
       "      <td>DECANTERS &amp; SPECIALTY PACKAGES</td>\n",
       "      <td>962.0</td>\n",
       "      <td>...</td>\n",
       "      <td>6</td>\n",
       "      <td>1500</td>\n",
       "      <td>$11.62</td>\n",
       "      <td>$17.43</td>\n",
       "      <td>6</td>\n",
       "      <td>$104.58</td>\n",
       "      <td>9.0</td>\n",
       "      <td>11</td>\n",
       "      <td>2015</td>\n",
       "      <td>2015-11</td>\n",
       "    </tr>\n",
       "    <tr>\n",
       "      <th>25</th>\n",
       "      <td>2015-11-04</td>\n",
       "      <td>3842</td>\n",
       "      <td>Bancroft Liquor Store</td>\n",
       "      <td>BANCROFT</td>\n",
       "      <td>50517</td>\n",
       "      <td>55.0</td>\n",
       "      <td>Kossuth</td>\n",
       "      <td>1701100.0</td>\n",
       "      <td>DECANTERS &amp; SPECIALTY PACKAGES</td>\n",
       "      <td>962.0</td>\n",
       "      <td>...</td>\n",
       "      <td>6</td>\n",
       "      <td>1500</td>\n",
       "      <td>$11.62</td>\n",
       "      <td>$17.43</td>\n",
       "      <td>3</td>\n",
       "      <td>$52.29</td>\n",
       "      <td>4.5</td>\n",
       "      <td>11</td>\n",
       "      <td>2015</td>\n",
       "      <td>2015-11</td>\n",
       "    </tr>\n",
       "    <tr>\n",
       "      <th>52</th>\n",
       "      <td>2015-11-18</td>\n",
       "      <td>2622</td>\n",
       "      <td>Hy-Vee Food Store / Iowa City</td>\n",
       "      <td>IOWA CITY</td>\n",
       "      <td>52240</td>\n",
       "      <td>52.0</td>\n",
       "      <td>Johnson</td>\n",
       "      <td>1081200.0</td>\n",
       "      <td>CREAM LIQUEURS</td>\n",
       "      <td>305.0</td>\n",
       "      <td>...</td>\n",
       "      <td>1</td>\n",
       "      <td>6000</td>\n",
       "      <td>$99.00</td>\n",
       "      <td>$148.50</td>\n",
       "      <td>1</td>\n",
       "      <td>$148.50</td>\n",
       "      <td>6.0</td>\n",
       "      <td>11</td>\n",
       "      <td>2015</td>\n",
       "      <td>2015-11</td>\n",
       "    </tr>\n",
       "    <tr>\n",
       "      <th>84</th>\n",
       "      <td>2015-11-21</td>\n",
       "      <td>2619</td>\n",
       "      <td>Hy-Vee Wine and Spirits / WDM</td>\n",
       "      <td>WEST DES MOINES</td>\n",
       "      <td>50266</td>\n",
       "      <td>77.0</td>\n",
       "      <td>Polk</td>\n",
       "      <td>1081200.0</td>\n",
       "      <td>CREAM LIQUEURS</td>\n",
       "      <td>305.0</td>\n",
       "      <td>...</td>\n",
       "      <td>1</td>\n",
       "      <td>6000</td>\n",
       "      <td>$99.00</td>\n",
       "      <td>$148.50</td>\n",
       "      <td>2</td>\n",
       "      <td>$297.00</td>\n",
       "      <td>12.0</td>\n",
       "      <td>11</td>\n",
       "      <td>2015</td>\n",
       "      <td>2015-11</td>\n",
       "    </tr>\n",
       "    <tr>\n",
       "      <th>101</th>\n",
       "      <td>2015-01-26</td>\n",
       "      <td>4742</td>\n",
       "      <td>No Frills Supermarkets #786 / Counci</td>\n",
       "      <td>COUNCIL BLUFFS</td>\n",
       "      <td>51501</td>\n",
       "      <td>78.0</td>\n",
       "      <td>Pottawattamie</td>\n",
       "      <td>1062200.0</td>\n",
       "      <td>PUERTO RICO &amp; VIRGIN ISLANDS RUM</td>\n",
       "      <td>35.0</td>\n",
       "      <td>...</td>\n",
       "      <td>6</td>\n",
       "      <td>1750</td>\n",
       "      <td>$15.00</td>\n",
       "      <td>$22.50</td>\n",
       "      <td>12</td>\n",
       "      <td>$270.00</td>\n",
       "      <td>21.0</td>\n",
       "      <td>1</td>\n",
       "      <td>2015</td>\n",
       "      <td>2015-01</td>\n",
       "    </tr>\n",
       "  </tbody>\n",
       "</table>\n",
       "<p>5 rows × 23 columns</p>\n",
       "</div>"
      ],
      "text/plain": [
       "          Date  StoreNumber                             StoreName  \\\n",
       "6   2015-11-09         2538       Hy-Vee Food Store #3 / Waterloo   \n",
       "25  2015-11-04         3842                 Bancroft Liquor Store   \n",
       "52  2015-11-18         2622         Hy-Vee Food Store / Iowa City   \n",
       "84  2015-11-21         2619         Hy-Vee Wine and Spirits / WDM   \n",
       "101 2015-01-26         4742  No Frills Supermarkets #786 / Counci   \n",
       "\n",
       "                City ZipCode  CountyNumber         County   Category  \\\n",
       "6           WATERLOO   50702           7.0     Black Hawk  1701100.0   \n",
       "25          BANCROFT   50517          55.0        Kossuth  1701100.0   \n",
       "52         IOWA CITY   52240          52.0        Johnson  1081200.0   \n",
       "84   WEST DES MOINES   50266          77.0           Polk  1081200.0   \n",
       "101   COUNCIL BLUFFS   51501          78.0  Pottawattamie  1062200.0   \n",
       "\n",
       "                         CategoryName  VendorNumber  ... Pack  \\\n",
       "6      DECANTERS & SPECIALTY PACKAGES         962.0  ...    6   \n",
       "25     DECANTERS & SPECIALTY PACKAGES         962.0  ...    6   \n",
       "52                     CREAM LIQUEURS         305.0  ...    1   \n",
       "84                     CREAM LIQUEURS         305.0  ...    1   \n",
       "101  PUERTO RICO & VIRGIN ISLANDS RUM          35.0  ...    6   \n",
       "\n",
       "     BottleVolume(ml) StateBottleCost  StateBottleRetail  BottlesSold  \\\n",
       "6                1500          $11.62             $17.43            6   \n",
       "25               1500          $11.62             $17.43            3   \n",
       "52               6000          $99.00            $148.50            1   \n",
       "84               6000          $99.00            $148.50            2   \n",
       "101              1750          $15.00             $22.50           12   \n",
       "\n",
       "    Sale(Dollars) VolumeSold(Liters)  Month  Year  Month_Year  \n",
       "6         $104.58                9.0     11  2015     2015-11  \n",
       "25         $52.29                4.5     11  2015     2015-11  \n",
       "52        $148.50                6.0     11  2015     2015-11  \n",
       "84        $297.00               12.0     11  2015     2015-11  \n",
       "101       $270.00               21.0      1  2015     2015-01  \n",
       "\n",
       "[5 rows x 23 columns]"
      ]
     },
     "execution_count": 34,
     "metadata": {},
     "output_type": "execute_result"
    }
   ],
   "source": [
    "# Ensuring additional columns have been added properly and data looks correct\n",
    "subset.head()"
   ]
  },
  {
   "cell_type": "code",
   "execution_count": 39,
   "id": "81c4d99d",
   "metadata": {},
   "outputs": [],
   "source": [
    "# Exporting cleaned df to csv for use in R\n",
    "subset.to_csv('/Users/jonahwork/Documents/R_Project_Iowa_Liquor/subset.csv')"
   ]
  }
 ],
 "metadata": {
  "kernelspec": {
   "display_name": "Python 3",
   "language": "python",
   "name": "python3"
  },
  "language_info": {
   "codemirror_mode": {
    "name": "ipython",
    "version": 3
   },
   "file_extension": ".py",
   "mimetype": "text/x-python",
   "name": "python",
   "nbconvert_exporter": "python",
   "pygments_lexer": "ipython3",
   "version": "3.8.8"
  }
 },
 "nbformat": 4,
 "nbformat_minor": 5
}
